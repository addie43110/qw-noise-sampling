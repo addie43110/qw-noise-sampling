{
 "cells": [
  {
   "cell_type": "code",
   "execution_count": 46,
   "id": "e0040dbe",
   "metadata": {},
   "outputs": [],
   "source": [
    "# imports\n",
    "import matplotlib.pyplot as plt\n",
    "import numpy as np\n",
    "import math\n",
    "import time\n",
    "\n",
    "# importing Qiskit\n",
    "from qiskit import IBMQ, Aer, assemble, transpile\n",
    "from qiskit import QuantumCircuit, ClassicalRegister, QuantumRegister\n",
    "from math import pi,log\n",
    "import matplotlib as mpl\n",
    "\n",
    "# import basic plot tools\n",
    "from qiskit.visualization import plot_histogram\n",
    "\n",
    "from qiskit.quantum_info import Statevector"
   ]
  },
  {
   "cell_type": "markdown",
   "id": "20947773",
   "metadata": {},
   "source": [
    "## Helper functions"
   ]
  },
  {
   "cell_type": "code",
   "execution_count": 3,
   "id": "1ac21d30",
   "metadata": {},
   "outputs": [],
   "source": [
    "def increment(n_adder):\n",
    "    \n",
    "    qc = QuantumCircuit(n_adder)\n",
    "    \n",
    "    for i in range(n_adder-2):\n",
    "        qc.mcx(list(range(i+1, n_adder)),i)\n",
    "    \n",
    "    qc.cx(n_adder-1, n_adder-2)\n",
    "    qc.x(n_adder-1)\n",
    "    \n",
    "    U_inc = qc.to_gate()\n",
    "    U_inc.name = \"U$_{inc}$\"\n",
    "    \n",
    "    return U_inc\n",
    "\n",
    "def decrement(n_sub):\n",
    "    \n",
    "    qc = QuantumCircuit(n_sub)\n",
    "    \n",
    "    qc.x(n_sub-1)\n",
    "    qc.cx(n_sub-1, n_sub-2)\n",
    "    \n",
    "    for i in range(n_sub-3, -1, -1):\n",
    "        qc.mcx(list(range(i+1, n_sub)),i)\n",
    "               \n",
    "    U_dec = qc.to_gate()\n",
    "    U_dec.name = \"U$_{dec}$\"\n",
    "    \n",
    "    return U_dec\n",
    "\n",
    "def shiftLine(n_pos):\n",
    "    \n",
    "    qr = QuantumRegister(1+n_pos)\n",
    "    q_dir = qr[:1]\n",
    "    q_pos = qr[1:]\n",
    "    \n",
    "    qc = QuantumCircuit(qr)\n",
    "    \n",
    "    # if direction is 0 (LEFT)\n",
    "    qc.x(q_dir)\n",
    "    qc.append(increment(n_pos).control(1), q_dir+q_pos)\n",
    "    qc.x(q_dir)\n",
    "    \n",
    "    # if direction is 1 (RIGHT)\n",
    "    qc.append(decrement(n_pos).control(1), q_dir+q_pos)\n",
    "    \n",
    "    \n",
    "    U_shift = qc.to_gate()\n",
    "    U_shift.name = \"U$_{shiftLine}$\"\n",
    "    return U_shift\n",
    "\n",
    "def round_remove_zeroes(np_dict):\n",
    "    for a,d in np.ndenumerate(np_dict):\n",
    "        for k,v in d.items():\n",
    "            d[k] = round(v, 5)\n",
    "    \n",
    "    new_dict = {}\n",
    "    for a,d in np.ndenumerate(np_dict):\n",
    "        for k,v in d.items():\n",
    "            if v:\n",
    "                new_dict[k] = v\n",
    "                \n",
    "    return new_dict"
   ]
  },
  {
   "cell_type": "markdown",
   "id": "bd53bf60",
   "metadata": {},
   "source": [
    "## Hadamard Distribution"
   ]
  },
  {
   "cell_type": "code",
   "execution_count": 47,
   "id": "20796cfd",
   "metadata": {},
   "outputs": [
    {
     "name": "stdout",
     "output_type": "stream",
     "text": [
      "Time for quantum walk to run (s): 70.869145154953\n",
      "Time for statevectors(s) to be produced (s): 29.460327863693237\n",
      "Total time (s): 100.32947301864624\n"
     ]
    },
    {
     "data": {
      "text/plain": [
       "\"qwalk_circ.measure(pos_ind, list(range(n_pos))[::-1]) # reversed to print in Big Endian form\\n\\naer_sim = Aer.get_backend('aer_simulator')\\ntranspiled_circuit = transpile(qwalk_circ, aer_sim)\\nqobj = assemble(transpiled_circuit)\\nresults = aer_sim.run(qobj, shots=2048).result()\\ncounts = results.get_counts()\\nplot_histogram(counts)\""
      ]
     },
     "execution_count": 47,
     "metadata": {},
     "output_type": "execute_result"
    }
   ],
   "source": [
    "n_dir = 1 # number of qubits required to represent all directions\n",
    "n_pos = 8 # number of qubits required to represent all positions\n",
    "iterations = 100\n",
    "\n",
    "# start timer\n",
    "start_time = time.time()\n",
    "\n",
    "qwalk_reg = QuantumRegister(n_dir+n_pos)\n",
    "\n",
    "# allocating qubits\n",
    "q_dir = qwalk_reg[:n_dir]\n",
    "q_pos = qwalk_reg[n_dir:]\n",
    "\n",
    "# lists of indices\n",
    "dir_ind = list(range(n_dir))\n",
    "pos_ind = list(range(n_dir+n_pos))[n_dir:]\n",
    "\n",
    "qwalk_circ = QuantumCircuit(qwalk_reg, ClassicalRegister(n_pos))\n",
    "\n",
    "# set up the initial position\n",
    "qwalk_circ.x(1)\n",
    "    \n",
    "# set up the initial direction(s)\n",
    "for qubit in q_dir:\n",
    "    qwalk_circ.h(qubit) \n",
    "\n",
    "for i in range(iterations):\n",
    "    \n",
    "    qwalk_circ.append(shiftLine(n_pos), dir_ind+pos_ind)\n",
    "    qwalk_circ.h(q_dir)\n",
    "    \n",
    "mid_time = time.time()\n",
    "    \n",
    "## Add state harvesting\n",
    "state = Statevector.from_instruction(qwalk_circ)\n",
    "    \n",
    "end_time = time.time()\n",
    "\n",
    "print(\"Time for quantum walk to run (s):\", mid_time - start_time)\n",
    "print(\"Time for statevectors(s) to be produced (s):\", end_time - mid_time)\n",
    "print(\"Total time (s):\", end_time-start_time)"
   ]
  },
  {
   "cell_type": "code",
   "execution_count": 9,
   "id": "7999681a",
   "metadata": {},
   "outputs": [
    {
     "data": {
      "image/png": "[encoded data removed]",
      "text/plain": [
       "<Figure size 432x288 with 1 Axes>"
      ]
     },
     "metadata": {
      "needs_background": "light"
     },
     "output_type": "display_data"
    }
   ],
   "source": [
    "x_elems = [i for i in range(0, pow(2,n_pos))]\n",
    "all_positions = [f'{i:0{n_pos}b}' for i in x_elems]\n",
    "\n",
    "parity = iterations % 2\n",
    "\n",
    "inds = list(range(1,n_pos+1))[::-1]\n",
    "rounded = round_remove_zeroes(state.probabilities_dict(inds))\n",
    "    \n",
    "for pos in all_positions:\n",
    "    if pos not in rounded:\n",
    "        rounded[pos] = 0\n",
    "            \n",
    "rounded = {int(k,2):v for k,v in rounded.items()}\n",
    "rounded = dict(sorted(rounded.items()))\n",
    "\n",
    "rounded_odd = {k:v for k,v in rounded.items() if k%2==parity}\n",
    "    \n",
    "x_odd = list(rounded_odd.keys())\n",
    "y_odd = list(rounded_odd.values())\n",
    "\n",
    "plt.plot(x_odd,y_odd)\n",
    "plt.show()"
   ]
  },
  {
   "cell_type": "markdown",
   "id": "0aac8723",
   "metadata": {},
   "source": [
    "## Gaussian / Normal Distribution"
   ]
  },
  {
   "cell_type": "code",
   "execution_count": 48,
   "id": "4ab7554f",
   "metadata": {},
   "outputs": [
    {
     "name": "stdout",
     "output_type": "stream",
     "text": [
      "Time for quantum walk to run (s): 1.5705878734588623\n",
      "Time for statevectors(s) to be produced (s): 78.75355911254883\n",
      "Total time (s): 80.32414698600769\n"
     ]
    }
   ],
   "source": [
    "n_dir = 1 # number of qubits required to represent all directions\n",
    "n_pos = 5 # number of qubits required to represent all positions\n",
    "iterations = 15\n",
    "\n",
    "start_time = time.time()\n",
    "\n",
    "qwalk_reg = QuantumRegister(n_dir+n_pos+iterations)\n",
    "\n",
    "# allocating qubits\n",
    "q_dir = qwalk_reg[:n_dir]\n",
    "q_pos = qwalk_reg[n_dir:n_dir+n_pos]\n",
    "q_anc = qwalk_reg[n_dir+n_pos:]\n",
    "\n",
    "# lists of indices\n",
    "dir_ind = list(range(n_dir))\n",
    "pos_ind = list(range(n_dir+n_pos))[n_dir:]\n",
    "anc_ind = [i+n_dir+n_pos for i in list(range(iterations))]\n",
    "\n",
    "qwalk_circ = QuantumCircuit(qwalk_reg, ClassicalRegister(n_pos))\n",
    "\n",
    "# set up the initial position\n",
    "qwalk_circ.x(1)\n",
    "    \n",
    "# set up the initial direction(s)\n",
    "for qubit in q_dir:\n",
    "    qwalk_circ.h(qubit) \n",
    "\n",
    "for i in range(iterations):\n",
    "    \n",
    "    qwalk_circ.append(shiftLine(n_pos), dir_ind+pos_ind)\n",
    "    \n",
    "    qwalk_circ.swap(q_anc[i], q_dir)\n",
    "    \n",
    "    qwalk_circ.h(q_dir)\n",
    "\n",
    "mid_time = time.time()\n",
    "    \n",
    "## Add state harvesting\n",
    "state = Statevector.from_instruction(qwalk_circ)\n",
    "\n",
    "end_time = time.time()\n",
    "\n",
    "print(\"Time for quantum walk to run (s):\", mid_time - start_time)\n",
    "print(\"Time for statevectors(s) to be produced (s):\", end_time - mid_time)\n",
    "print(\"Total time (s):\", end_time-start_time)"
   ]
  },
  {
   "cell_type": "code",
   "execution_count": 26,
   "id": "a0e00e5f",
   "metadata": {},
   "outputs": [
    {
     "data": {
      "image/png": "[encoded data removed]",
      "text/plain": [
       "<Figure size 432x288 with 1 Axes>"
      ]
     },
     "metadata": {
      "needs_background": "light"
     },
     "output_type": "display_data"
    }
   ],
   "source": [
    "x_elems = [i for i in range(0, pow(2,n_pos))]\n",
    "all_positions = [f'{i:0{n_pos}b}' for i in x_elems]\n",
    "\n",
    "parity = iterations % 2\n",
    "\n",
    "inds = list(range(1,n_pos+1))[::-1]\n",
    "rounded = round_remove_zeroes(state.probabilities_dict(inds))\n",
    "    \n",
    "for pos in all_positions:\n",
    "    if pos not in rounded:\n",
    "        rounded[pos] = 0\n",
    "            \n",
    "rounded = {int(k,2):v for k,v in rounded.items()}\n",
    "rounded = dict(sorted(rounded.items()))\n",
    "\n",
    "rounded_odd = {k:v for k,v in rounded.items() if k%2==parity}\n",
    "\n",
    "x_odd = list(rounded_odd.keys())\n",
    "y_odd = list(rounded_odd.values())\n",
    "\n",
    "plt.plot(x_odd,y_odd)\n",
    "plt.show()"
   ]
  },
  {
   "cell_type": "markdown",
   "id": "2bd950e9",
   "metadata": {},
   "source": [
    "## Gaussian Distribution with Multiple Walkers"
   ]
  },
  {
   "cell_type": "code",
   "execution_count": 57,
   "id": "6d99332d",
   "metadata": {},
   "outputs": [
    {
     "name": "stdout",
     "output_type": "stream",
     "text": [
      "Time for quantum walk to run (s): 1.5174798965454102\n",
      "Time for statevectors(s) to be produced (s): 10.025216102600098\n",
      "Total time (s): 11.542695999145508\n"
     ]
    }
   ],
   "source": [
    "n_dir = 1 # number of qubits required to represent all directions\n",
    "n_pos = 6 # number of qubits required to represent all positions\n",
    "iterations = 10\n",
    "\n",
    "start_time = time.time()\n",
    "\n",
    "qwalk_reg = QuantumRegister(n_dir+n_pos+iterations)\n",
    "\n",
    "# allocating qubits\n",
    "q_dir = qwalk_reg[:n_dir]\n",
    "q_pos = qwalk_reg[n_dir:n_dir+n_pos]\n",
    "q_anc = qwalk_reg[n_dir+n_pos:]\n",
    "\n",
    "# lists of indices\n",
    "dir_ind = list(range(n_dir))\n",
    "pos_ind = list(range(n_dir+n_pos))[n_dir:]\n",
    "anc_ind = [i+n_dir+n_pos for i in list(range(iterations))]\n",
    "\n",
    "qwalk_circ = QuantumCircuit(qwalk_reg, ClassicalRegister(n_pos))\n",
    "\n",
    "# set up the initial position\n",
    "qwalk_circ.h(1)\n",
    "qwalk_circ.x(1)\n",
    "qwalk_circ.cx(1,2)\n",
    "qwalk_circ.x([1,4])\n",
    "    \n",
    "# set up the initial direction(s)\n",
    "for qubit in q_dir:\n",
    "    qwalk_circ.h(qubit) \n",
    "\n",
    "for i in range(iterations):\n",
    "    \n",
    "    qwalk_circ.append(shiftLine(n_pos), dir_ind+pos_ind)\n",
    "    \n",
    "    qwalk_circ.swap(q_anc[i], q_dir)\n",
    "    \n",
    "    qwalk_circ.h(q_dir)\n",
    "    \n",
    "mid_time = time.time()\n",
    "    \n",
    "## Add state harvesting\n",
    "state = Statevector.from_instruction(qwalk_circ)\n",
    "\n",
    "end_time = time.time()\n",
    "\n",
    "print(\"Time for quantum walk to run (s):\", mid_time - start_time)\n",
    "print(\"Time for statevectors(s) to be produced (s):\", end_time - mid_time)\n",
    "print(\"Total time (s):\", end_time-start_time)"
   ]
  },
  {
   "cell_type": "code",
   "execution_count": 58,
   "id": "766b8543",
   "metadata": {},
   "outputs": [
    {
     "data": {
      "image/png": "[encoded data removed]",
      "text/plain": [
       "<Figure size 432x288 with 1 Axes>"
      ]
     },
     "metadata": {
      "needs_background": "light"
     },
     "output_type": "display_data"
    }
   ],
   "source": [
    "x_elems = [i for i in range(0, pow(2,n_pos))]\n",
    "all_positions = [f'{i:0{n_pos}b}' for i in x_elems]\n",
    "\n",
    "parity = iterations % 2\n",
    "\n",
    "inds = list(range(1,n_pos+1))[::-1]\n",
    "rounded = round_remove_zeroes(state.probabilities_dict(inds))\n",
    "    \n",
    "for pos in all_positions:\n",
    "    if pos not in rounded:\n",
    "        rounded[pos] = 0\n",
    "            \n",
    "rounded = {int(k,2):v for k,v in rounded.items()}\n",
    "rounded = dict(sorted(rounded.items()))\n",
    "\n",
    "rounded_odd = {k:v for k,v in rounded.items() if k%2==parity}\n",
    "\n",
    "x_odd = list(rounded_odd.keys())\n",
    "y_odd = list(rounded_odd.values())\n",
    "\n",
    "plt.plot(x_odd,y_odd)\n",
    "plt.show()"
   ]
  },
  {
   "cell_type": "markdown",
   "id": "e2a15df6",
   "metadata": {},
   "source": [
    "## Uniform distribution"
   ]
  },
  {
   "cell_type": "code",
   "execution_count": 27,
   "id": "3e40faa1",
   "metadata": {},
   "outputs": [
    {
     "data": {
      "image/png": "[encoded data removed]",
      "text/plain": [
       "<Figure size 432x288 with 1 Axes>"
      ]
     },
     "metadata": {
      "needs_background": "light"
     },
     "output_type": "display_data"
    }
   ],
   "source": [
    "n_dir = 1 # number of qubits required to represent all directions\n",
    "n_pos = 5 # number of qubits required to represent all positions\n",
    "iterations = 0\n",
    "\n",
    "qwalk_reg = QuantumRegister(n_dir+n_pos)\n",
    "\n",
    "q_pos = qwalk_reg[n_dir:n_dir+n_pos]\n",
    "\n",
    "qwalk_circ = QuantumCircuit(qwalk_reg, ClassicalRegister(n_pos))\n",
    "\n",
    "# set up the initial position\n",
    "for qubit in q_pos:\n",
    "    qwalk_circ.h(qubit)\n",
    "    \n",
    "## Add state harvesting\n",
    "state = Statevector.from_instruction(qwalk_circ)\n",
    "\n",
    "x_elems = [i for i in range(0, pow(2,n_pos))]\n",
    "all_positions = [f'{i:0{n_pos}b}' for i in x_elems]\n",
    "\n",
    "parity = iterations % 2\n",
    "\n",
    "inds = list(range(1,n_pos+1))[::-1]\n",
    "rounded = round_remove_zeroes(state.probabilities_dict(inds))\n",
    "    \n",
    "for pos in all_positions:\n",
    "    if pos not in rounded:\n",
    "        rounded[pos] = 0\n",
    "            \n",
    "rounded = {int(k,2):v for k,v in rounded.items()}\n",
    "rounded = dict(sorted(rounded.items()))\n",
    "\n",
    "rounded_odd = {k:v for k,v in rounded.items() if k%2==parity}\n",
    "\n",
    "x_odd = list(rounded_odd.keys())\n",
    "y_odd = list(rounded_odd.values())\n",
    "\n",
    "plt.plot(x_odd,y_odd)\n",
    "plt.show()"
   ]
  },
  {
   "cell_type": "code",
   "execution_count": null,
   "id": "fe6c6345",
   "metadata": {},
   "outputs": [],
   "source": []
  }
 ],
 "metadata": {
  "kernelspec": {
   "display_name": "Python 3 (ipykernel)",
   "language": "python",
   "name": "python3"
  },
  "language_info": {
   "codemirror_mode": {
    "name": "ipython",
    "version": 3
   },
   "file_extension": ".py",
   "mimetype": "text/x-python",
   "name": "python",
   "nbconvert_exporter": "python",
   "pygments_lexer": "ipython3",
   "version": "3.10.4"
  }
 },
 "nbformat": 4,
 "nbformat_minor": 5
}
